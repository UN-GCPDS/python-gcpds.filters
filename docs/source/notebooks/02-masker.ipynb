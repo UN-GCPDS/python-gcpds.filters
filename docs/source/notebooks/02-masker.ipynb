{
 "cells": [
  {
   "cell_type": "code",
   "execution_count": 1,
   "id": "fb30bc60-c4cd-417c-b95a-678ce658fc83",
   "metadata": {},
   "outputs": [],
   "source": [
    "from matplotlib import pyplot as plt\n",
    "from ipywidgets import interact\n",
    "\n",
    "def show_mask(mask):\n",
    "    plt.figure(figsize=(8, 8), dpi=90)\n",
    "    m = mask.copy()\n",
    "    m[m>=1] = 1\n",
    "    plt.axis('off')\n",
    "    plt.imshow(m)"
   ]
  },
  {
   "cell_type": "markdown",
   "id": "c9c3c0b9-d3d8-49be-a32a-40775193c650",
   "metadata": {},
   "source": [
    "# Laplacian masker"
   ]
  },
  {
   "cell_type": "code",
   "execution_count": 2,
   "id": "f906890a-ffb5-4cd8-9ee5-2d95a3699450",
   "metadata": {},
   "outputs": [],
   "source": [
    "from gcpds.filters.spatial.masker import generate_mask\n",
    "from gcpds.utils import loaddb"
   ]
  },
  {
   "cell_type": "code",
   "execution_count": 3,
   "id": "88623570-9336-4e5f-802e-d71812d83bd2",
   "metadata": {},
   "outputs": [
    {
     "data": {
      "text/plain": [
       "array([[ 0,  0,  0,  1,  0,  0,  0],\n",
       "       [ 0,  2,  3,  4,  5,  6,  0],\n",
       "       [ 7,  8,  9, 10, 11, 12, 13],\n",
       "       [ 0, 14, 15, 16, 17, 18,  0],\n",
       "       [ 0,  0, 19, 20, 21,  0,  0],\n",
       "       [ 0,  0,  0, 22,  0,  0,  0]])"
      ]
     },
     "execution_count": 3,
     "metadata": {},
     "output_type": "execute_result"
    }
   ],
   "source": [
    "channels = ['Fz', 'FC3', 'FC1', 'FCz', 'FC2', 'FC4', 'C5', 'C3', 'C1', 'Cz', 'C2', 'C4', 'C6', 'CP3', 'CP1', 'CPz', 'CP2', 'CP4', 'P1', 'Pz', 'P2', 'POz']\n",
    "montage_name = 'standard_1020'\n",
    "\n",
    "generate_mask(channels, montage_name)"
   ]
  },
  {
   "cell_type": "markdown",
   "id": "249481d7-8120-4dff-8395-c2a66c15a95f",
   "metadata": {},
   "source": [
    "##  GCPDS.utils databases"
   ]
  },
  {
   "cell_type": "code",
   "execution_count": 4,
   "id": "50061049-7b55-4761-88ed-e332a30f71e6",
   "metadata": {},
   "outputs": [
    {
     "data": {
      "application/vnd.jupyter.widget-view+json": {
       "model_id": "b6bdd98939bf4b1b9cb65bcfb71097e0",
       "version_major": 2,
       "version_minor": 0
      },
      "text/plain": [
       "interactive(children=(Dropdown(description='database', options=('GIGA_MI_ME', 'BCI_CIV_2a', 'HighGamma_ME', 'P…"
      ]
     },
     "metadata": {},
     "output_type": "display_data"
    }
   ],
   "source": [
    "@interact(database=loaddb.available_databases)\n",
    "def get_mask(database='GIGA_MI_ME'):\n",
    "    channels, montage_name = getattr(loaddb, database).metadata['channel_names'], getattr(loaddb, database).metadata['montage']\n",
    "    \n",
    "    print(f\"Channels: {channels}\")\n",
    "    print(f\"Montage: {montage_name}\")\n",
    "    \n",
    "    mask = generate_mask(channels, montage_name)\n",
    "    print(f\"Mask: \\n{mask}\")\n",
    "    show_mask(mask)"
   ]
  }
 ],
 "metadata": {
  "kernelspec": {
   "display_name": "Python 3",
   "language": "python",
   "name": "python3"
  },
  "language_info": {
   "codemirror_mode": {
    "name": "ipython",
    "version": 3
   },
   "file_extension": ".py",
   "mimetype": "text/x-python",
   "name": "python",
   "nbconvert_exporter": "python",
   "pygments_lexer": "ipython3",
   "version": "3.9.3"
  }
 },
 "nbformat": 4,
 "nbformat_minor": 5
}
